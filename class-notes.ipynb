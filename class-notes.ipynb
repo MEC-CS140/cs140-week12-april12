{
 "cells": [
  {
   "cell_type": "markdown",
   "metadata": {},
   "source": [
    "# Welcome to CS 140: Python Unit, Part 1\n",
    "This Notebook is for the first few weeks in Python, we will transition to making our own standalone applications in Part 2!\n",
    "\n",
    "**Make a new Code cell by clicking the + Code button at the top of the notebook.**"
   ]
  },
  {
   "cell_type": "code",
   "execution_count": 2,
   "metadata": {},
   "outputs": [
    {
     "name": "stdout",
     "output_type": "stream",
     "text": [
      "10\n",
      "jasmine\n"
     ]
    }
   ],
   "source": [
    "first_python_variable = 10\n",
    "print(first_python_variable)\n",
    "\n",
    "user_name = input(\"Enter user name\")\n",
    "print(user_name)"
   ]
  },
  {
   "cell_type": "code",
   "execution_count": 9,
   "metadata": {},
   "outputs": [
    {
     "name": "stdout",
     "output_type": "stream",
     "text": [
      "I am in CS140 in the Spring 2024 semester\n",
      "I am in CS140 in the Spring 2024 semester\n"
     ]
    }
   ],
   "source": [
    "class_text = \"I am in {} in the {} {} semester\"\n",
    "class_name = \"CS140\"\n",
    "semester = \"Spring\"\n",
    "year = 2024\n",
    "\n",
    "class_text_formatted = class_text.format(class_name, semester, year)\n",
    "print(class_text_formatted)\n",
    "\n",
    "print(\"I am in \" + class_name + \" in the \" + semester + \" \" + str(year) + \" semester\")"
   ]
  },
  {
   "cell_type": "code",
   "execution_count": 13,
   "metadata": {},
   "outputs": [
    {
     "name": "stdout",
     "output_type": "stream",
     "text": [
      "False\n",
      "This statement is false\n",
      "This statement is true\n"
     ]
    }
   ],
   "source": [
    "condition = 5 > 500\n",
    "print(condition)\n",
    "\n",
    "\n",
    "if 5 > 500: # False\n",
    "    print(\"This statement is true\")\n",
    "else:\n",
    "    print(\"This statement is false\")\n",
    "\n",
    "if 5 < 500: # True\n",
    "    print(\"This statement is true\")\n",
    "else:\n",
    "    print(\"This statement is false\")"
   ]
  },
  {
   "cell_type": "code",
   "execution_count": 20,
   "metadata": {},
   "outputs": [
    {
     "name": "stdout",
     "output_type": "stream",
     "text": [
      "You are an adult\n"
     ]
    }
   ],
   "source": [
    "age = input(\"What is your age?\")\n",
    "\n",
    "if int(age) >= 18:\n",
    "    print(\"You are an adult\")\n",
    "\n",
    "else:\n",
    "    print(\"You are under age\")"
   ]
  }
 ],
 "metadata": {
  "kernelspec": {
   "display_name": "Python 3",
   "language": "python",
   "name": "python3"
  },
  "language_info": {
   "codemirror_mode": {
    "name": "ipython",
    "version": 3
   },
   "file_extension": ".py",
   "mimetype": "text/x-python",
   "name": "python",
   "nbconvert_exporter": "python",
   "pygments_lexer": "ipython3",
   "version": "3.10.13"
  }
 },
 "nbformat": 4,
 "nbformat_minor": 2
}
